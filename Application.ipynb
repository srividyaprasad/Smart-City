{
 "cells": [
  {
   "cell_type": "code",
   "execution_count": null,
   "id": "ab95baf9",
   "metadata": {},
   "outputs": [],
   "source": [
    "!pip install requests\n",
    "!pip install git+https://github.com/ozgur/python-firebase"
   ]
  },
  {
   "cell_type": "code",
   "execution_count": null,
   "id": "285d173e",
   "metadata": {},
   "outputs": [],
   "source": [
    "from firebase import firebase\n",
    "\n",
    "firebase = firebase.FirebaseApplication('https://userdatabasesports-default-rtdb.firebaseio.com', None)\n",
    "\n",
    "def scan():\n",
    "        import cv2\n",
    "        import webbrowser\n",
    "        cap = cv2.VideoCapture(0)\n",
    "        detector = cv2.QRCodeDetector()\n",
    "        while True:\n",
    "            _, img = cap.read() #qrs have unique ids\n",
    "            uid, bbox, _ = detector.detectAndDecode(img) \n",
    "            if uid:\n",
    "                return str(uid)\n",
    "            cv2.waitKey(0)\n",
    "            \n",
    "def verify(): # at entry and check points\n",
    "           \n",
    "    uid = scan()\n",
    "    if uid in firebase.get('/Users/', ''):\n",
    "        print('Verified User! Welcome.',firebase.get('/Users/'+uid+'/Type/', ''))\n",
    "    else:\n",
    "        print('Unverified User! Registration required.')\n",
    "\n",
    "\n",
    "def buy(product): # at food and shopping stalls \n",
    "    \n",
    "    uid = str(782830)\n",
    "    current=firebase.get('/Users/'+uid+'/Bill','')\n",
    "    name=firebase.get('/Users/'+uid+'/Name','')\n",
    "    if product in firebase.get('/Shop',''):\n",
    "        cost=firebase.get('/Shop/'+product+'/Price', '')\n",
    "        print(cost)\n",
    "        firebase.put('/Users/'+uid,'Bill',current+cost)\n",
    "        print(\"Thank you for shopping! Price added to virtual wallet.\")\n",
    "    else: \n",
    "        print('Invalid product. Please try again.')\n",
    "        \n",
    "fun=input(\"Enter V (Verifying User or Employee), B (Billing): \")\n",
    "\n",
    "if fun=='V': #Verify\n",
    "    verify()\n",
    "\n",
    "if fun=='B': #Buy\n",
    "    prod=input('Enter Product: ')\n",
    "    buy(prod)"
   ]
  },
  {
   "cell_type": "code",
   "execution_count": null,
   "id": "5a7c4062",
   "metadata": {},
   "outputs": [],
   "source": []
  }
 ],
 "metadata": {
  "kernelspec": {
   "display_name": "Python 3 (ipykernel)",
   "language": "python",
   "name": "python3"
  },
  "language_info": {
   "codemirror_mode": {
    "name": "ipython",
    "version": 3
   },
   "file_extension": ".py",
   "mimetype": "text/x-python",
   "name": "python",
   "nbconvert_exporter": "python",
   "pygments_lexer": "ipython3",
   "version": "3.9.7"
  }
 },
 "nbformat": 4,
 "nbformat_minor": 5
}
