{
  "cells": [
    {
      "cell_type": "code",
      "execution_count": null,
      "metadata": {
        "id": "4LZjC9S_Bu0_"
      },
      "outputs": [],
      "source": [
        "!pip install requests\n",
        "!pip install git+https://github.com/ozgur/python-firebase"
      ]
    },
    {
      "cell_type": "code",
      "execution_count": null,
      "metadata": {
        "id": "eKgEG_rCHESZ"
      },
      "outputs": [],
      "source": [
        "import cv2\n",
        "from firebase import firebase\n",
        "import tkinter as tk\n",
        "from tkinter import simpledialog, messagebox\n",
        "\n",
        "firebase = firebase.FirebaseApplication('https://userdatabasesports-default-rtdb.firebaseio.com', None)\n",
        "\n",
        "def scan():\n",
        "    cap = cv2.VideoCapture(0)\n",
        "    detector = cv2.QRCodeDetector()\n",
        "    while True:\n",
        "        _, img = cap.read()  # qrs have unique ids\n",
        "        uid, bbox, _ = detector.detectAndDecode(img)\n",
        "        if uid:\n",
        "            cap.release()\n",
        "            cv2.destroyAllWindows()\n",
        "            return str(uid)\n",
        "        cv2.imshow(\"QR Code Scanner\", img)\n",
        "        if cv2.waitKey(1) & 0xFF == 27:  # Press 'Esc' to exit the scanner\n",
        "            cap.release()\n",
        "            cv2.destroyAllWindows()\n",
        "            break\n",
        "\n",
        "def verify():\n",
        "    uid = scan()\n",
        "    if uid in firebase.get('/Users/', ''):\n",
        "        user_type = firebase.get(f'/Users/{uid}/Type/', '')\n",
        "        messagebox.showinfo('Verification', f'Verified User! Welcome. User Type: {user_type}')\n",
        "    else:\n",
        "        messagebox.showwarning('Verification', 'Unverified User! Registration required.')\n",
        "\n",
        "def buy(product):\n",
        "    uid = simpledialog.askstring('User ID', 'Enter User ID for Billing:')\n",
        "    if not uid:\n",
        "        messagebox.showwarning('Error', 'User ID cannot be empty!')\n",
        "        return\n",
        "\n",
        "    if uid in firebase.get('/Users/', ''):\n",
        "        if product in firebase.get('/Shop', ''):\n",
        "            cost = firebase.get(f'/Shop/{product}/Price', '')\n",
        "            current = firebase.get(f'/Users/{uid}/Bill', 0)\n",
        "            firebase.put('/Users/' + uid, 'Bill', current + cost)\n",
        "            messagebox.showinfo('Billing', f'Thank you for shopping, {uid}! Price added to virtual wallet.')\n",
        "        else:\n",
        "            messagebox.showwarning('Invalid Product', 'Invalid product. Please try again.')\n",
        "    else:\n",
        "        messagebox.showwarning('Invalid User', 'User ID not found in database. Please try again.')\n",
        "\n",
        "def on_button_verify():\n",
        "    verify()\n",
        "\n",
        "def on_button_buy():\n",
        "    product = simpledialog.askstring('Product', 'Enter Product:')\n",
        "    if product:\n",
        "        buy(product)\n",
        "\n",
        "root = tk.Tk()\n",
        "root.title('QR Code Verification and Billing')\n",
        "\n",
        "frame = tk.Frame(root)\n",
        "frame.pack(padx=20, pady=20)\n",
        "\n",
        "button_verify = tk.Button(frame, text='Verify User', command=on_button_verify)\n",
        "button_verify.pack(fill=tk.X, padx=10, pady=5)\n",
        "\n",
        "button_buy = tk.Button(frame, text='Buy Product', command=on_button_buy)\n",
        "button_buy.pack(fill=tk.X, padx=10, pady=5)\n",
        "\n",
        "root.mainloop()\n"
      ]
    }
  ],
  "metadata": {
    "colab": {
      "provenance": []
    },
    "kernelspec": {
      "display_name": "Python 3",
      "name": "python3"
    },
    "language_info": {
      "codemirror_mode": {
        "name": "ipython",
        "version": 3
      },
      "file_extension": ".py",
      "mimetype": "text/x-python",
      "name": "python",
      "nbconvert_exporter": "python",
      "pygments_lexer": "ipython3",
      "version": "3.7.7"
    }
  },
  "nbformat": 4,
  "nbformat_minor": 0
}
